{
 "cells": [
  {
   "cell_type": "code",
   "execution_count": 1,
   "metadata": {},
   "outputs": [
    {
     "name": "stderr",
     "output_type": "stream",
     "text": [
      "[INFO   ] [Logger      ] Record log in C:\\Users\\vasu\\.kivy\\logs\\kivy_21-04-29_0.txt\n",
      "[INFO   ] [deps        ] Successfully imported \"kivy_deps.angle\" 0.3.0\n",
      "[INFO   ] [deps        ] Successfully imported \"kivy_deps.glew\" 0.3.0\n",
      "[INFO   ] [deps        ] Successfully imported \"kivy_deps.sdl2\" 0.3.1\n",
      "[INFO   ] [Kivy        ] v2.0.0\n",
      "[INFO   ] [Kivy        ] Installed at \"C:\\Users\\vasu\\anaconda3\\lib\\site-packages\\kivy\\__init__.py\"\n",
      "[INFO   ] [Python      ] v3.8.3 (default, Jul  2 2020, 17:30:36) [MSC v.1916 64 bit (AMD64)]\n",
      "[INFO   ] [Python      ] Interpreter at \"C:\\Users\\vasu\\anaconda3\\python.exe\"\n",
      "[INFO   ] [Factory     ] 186 symbols loaded\n",
      "[INFO   ] [Image       ] Providers: img_tex, img_dds, img_sdl2, img_pil (img_ffpyplayer ignored)\n",
      "[INFO   ] [Text        ] Provider: sdl2\n",
      "[INFO   ] [Window      ] Provider: sdl2\n",
      "[INFO   ] [GL          ] Using the \"OpenGL\" graphics system\n",
      "[INFO   ] [GL          ] GLEW initialization succeeded\n",
      "[INFO   ] [GL          ] Backend used <glew>\n",
      "[INFO   ] [GL          ] OpenGL version <b'4.6.0 - Build 26.20.100.7985'>\n",
      "[INFO   ] [GL          ] OpenGL vendor <b'Intel'>\n",
      "[INFO   ] [GL          ] OpenGL renderer <b'Intel(R) HD Graphics 620'>\n",
      "[INFO   ] [GL          ] OpenGL parsed version: 4, 6\n",
      "[INFO   ] [GL          ] Shading version <b'4.60 - Build 26.20.100.7985'>\n",
      "[INFO   ] [GL          ] Texture max size <16384>\n",
      "[INFO   ] [GL          ] Texture max units <32>\n",
      "[INFO   ] [Window      ] auto add sdl2 input provider\n",
      "[INFO   ] [Window      ] virtual keyboard not allowed, single mode, not docked\n",
      "[INFO   ] [Base        ] Start application main loop\n",
      "[INFO   ] [GL          ] NPOT texture support is available\n",
      "[INFO   ] [Base        ] Leaving application in progress...\n"
     ]
    }
   ],
   "source": [
    "import kivy"
   ]
  },
  {
   "cell_type": "code",
   "execution_count": 2,
   "metadata": {},
   "outputs": [],
   "source": [
    "from kivy.app import App"
   ]
  },
  {
   "cell_type": "code",
   "execution_count": 3,
   "metadata": {},
   "outputs": [],
   "source": [
    "from kivy.uix.gridlayout import GridLayout "
   ]
  },
  {
   "cell_type": "code",
   "execution_count": 4,
   "metadata": {},
   "outputs": [],
   "source": [
    "from kivy.uix.label import Label"
   ]
  },
  {
   "cell_type": "code",
   "execution_count": 5,
   "metadata": {},
   "outputs": [],
   "source": [
    "from kivy.uix.textinput import TextInput"
   ]
  },
  {
   "cell_type": "code",
   "execution_count": 6,
   "metadata": {},
   "outputs": [],
   "source": [
    "from kivy.uix.button import Button"
   ]
  },
  {
   "cell_type": "code",
   "execution_count": 7,
   "metadata": {},
   "outputs": [],
   "source": [
    "class LibraryGrid(GridLayout):\n",
    "    def __init__(self,**kwargs):\n",
    "        super(LibraryGrid , self).__init__()\n",
    "        self.cols = 4\n",
    "        \n",
    "        self.add_widget(Label(text = \"student name:\"))\n",
    "        self.a_name = TextInput()\n",
    "        self.add_widget(self.a_name)\n",
    "        \n",
    "        self.add_widget(Label(text = \"Name of Book:\"))\n",
    "        self.a_book = TextInput()\n",
    "        self.add_widget(self.a_book)\n",
    "        \n",
    "        self.add_widget(Label(text = \"Issue Date:\"))\n",
    "        self.a_issue = TextInput()\n",
    "        self.add_widget(self.a_issue)\n",
    "        \n",
    "        self.add_widget(Label(text = \"Return Date:\"))\n",
    "        self.a_return = TextInput()\n",
    "        self.add_widget(self.a_return)\n",
    "        \n",
    "        self.add_widget(Label(text = \"Pending Fine:\"))\n",
    "        self.a_fine = TextInput()\n",
    "        self.add_widget(self.a_fine)\n",
    "        \n",
    "        self.press = Button(text = \"click here to print info\")\n",
    "        self.press.bind(on_press = self.click_me)\n",
    "        self.add_widget(self.press)\n",
    "        \n",
    "    def click_me(self , instance):\n",
    "        print(\"Name of the student:\"+self.a_name.text)\n",
    "        print(\"Name of the book:\"+self.a_book.text)\n",
    "        print(\"Date of Issue:\"+self.a_issue.text)\n",
    "        print(\"Return Date:\"+self.a_return.text)\n",
    "        print(\"Any fine:\"+self.a_fine.text)\n",
    "        \n",
    "        \n",
    "        \n",
    "        \n",
    "        \n",
    "        \n"
   ]
  },
  {
   "cell_type": "code",
   "execution_count": 8,
   "metadata": {},
   "outputs": [
    {
     "name": "stdout",
     "output_type": "stream",
     "text": [
      "Name of the student:y\n",
      "\t\n",
      "Name of the book:r\n",
      "Date of Issue:1\n",
      "Return Date:2\n",
      "Any fine:0\n"
     ]
    }
   ],
   "source": [
    "class LibraryApp(App):\n",
    "    def build(self):\n",
    "        return LibraryGrid()\n",
    "if  __name__ == '__main__':\n",
    "    LibraryApp().run()"
   ]
  },
  {
   "cell_type": "code",
   "execution_count": null,
   "metadata": {},
   "outputs": [],
   "source": []
  }
 ],
 "metadata": {
  "kernelspec": {
   "display_name": "Python 3",
   "language": "python",
   "name": "python3"
  },
  "language_info": {
   "codemirror_mode": {
    "name": "ipython",
    "version": 3
   },
   "file_extension": ".py",
   "mimetype": "text/x-python",
   "name": "python",
   "nbconvert_exporter": "python",
   "pygments_lexer": "ipython3",
   "version": "3.8.3"
  }
 },
 "nbformat": 4,
 "nbformat_minor": 4
}
